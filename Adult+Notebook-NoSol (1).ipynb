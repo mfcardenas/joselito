{
 "cells": [
  {
   "cell_type": "markdown",
   "metadata": {},
   "source": [
    "### A lo largo de este notebook se van a ver distintos ejemplos de uso de Spark ML, tocando un poco la parte de análisis exploratorio e integración con Pandas y Matplotlib, para posteriormente ajustar un algoritmo de aprendizaje automático. El conjunto de datos corresponde al dataset Adult de UCI, donde se proporciona una muestra de individuos con diferentes atributos y se trata de predecir si su salario está por encima o por debajo de 50.000 dólares al año. Para esta práctica se pide un sólo ejercicio: extender el ejemplo de ajuste de aprendizaje automático para poder seleccionar el hiperparámetro de regularización óptimo, de cara a obtener un mejor rendimiento del clasificador. Se sugiere emplear la funcionalidad de búsqueda grid que tiene Spark ML y que podéis encontrar en las transparencias de clase."
   ]
  },
  {
   "cell_type": "code",
   "execution_count": 140,
   "metadata": {
    "collapsed": true
   },
   "outputs": [],
   "source": [
    "%matplotlib inline"
   ]
  },
  {
   "cell_type": "code",
   "execution_count": 141,
   "metadata": {
    "collapsed": false
   },
   "outputs": [
    {
     "name": "stdout",
     "output_type": "stream",
     "text": [
      "['age', 'workclass', 'fnlwgt', 'education', 'education_num', 'marital_status', 'occupation', 'relationship', 'race', 'sex', 'capital_gain', 'capital_loss', 'hours_per_week', 'native_country', 'target']\n"
     ]
    }
   ],
   "source": [
    "df = sqlContext.\\\n",
    "    read.format(\"com.databricks.spark.csv\").\\\n",
    "    option(\"header\", \"true\").\\\n",
    "    option(\"inferschema\", \"true\").\\\n",
    "    option(\"mode\", \"DROPMALFORMED\").\\\n",
    "    load(\"adult.csv\").\\\n",
    "    cache()\n",
    "columnas = df.columns\n",
    "print(columnas)"
   ]
  },
  {
   "cell_type": "code",
   "execution_count": 142,
   "metadata": {
    "collapsed": false
   },
   "outputs": [
    {
     "name": "stdout",
     "output_type": "stream",
     "text": [
      "+-----------------+-----+\n",
      "|        workclass|count|\n",
      "+-----------------+-----+\n",
      "|        State-gov| 1298|\n",
      "|      Federal-gov|  960|\n",
      "| Self-emp-not-inc| 2541|\n",
      "|        Local-gov| 2093|\n",
      "|          Private|22696|\n",
      "|                ?| 1836|\n",
      "|     Self-emp-inc| 1116|\n",
      "|      Without-pay|   14|\n",
      "|     Never-worked|    7|\n",
      "+-----------------+-----+\n",
      "\n"
     ]
    }
   ],
   "source": [
    "df.select(\"workclass\").groupBy(\"workclass\").count().show()"
   ]
  },
  {
   "cell_type": "code",
   "execution_count": 143,
   "metadata": {
    "collapsed": false
   },
   "outputs": [
    {
     "name": "stdout",
     "output_type": "stream",
     "text": [
      "root\n",
      " |-- age: integer (nullable = true)\n",
      " |-- workclass: string (nullable = true)\n",
      " |-- fnlwgt: integer (nullable = true)\n",
      " |-- education: string (nullable = true)\n",
      " |-- education_num: integer (nullable = true)\n",
      " |-- marital_status: string (nullable = true)\n",
      " |-- occupation: string (nullable = true)\n",
      " |-- relationship: string (nullable = true)\n",
      " |-- race: string (nullable = true)\n",
      " |-- sex: string (nullable = true)\n",
      " |-- capital_gain: integer (nullable = true)\n",
      " |-- capital_loss: integer (nullable = true)\n",
      " |-- hours_per_week: integer (nullable = true)\n",
      " |-- native_country: string (nullable = true)\n",
      " |-- target: boolean (nullable = true)\n",
      "\n"
     ]
    }
   ],
   "source": [
    "df.printSchema()"
   ]
  },
  {
   "cell_type": "markdown",
   "metadata": {},
   "source": [
    "### De las columnas 0 a 5 hacemos un resumen simple de las que son numéricas (según el esquema deducido)"
   ]
  },
  {
   "cell_type": "code",
   "execution_count": 144,
   "metadata": {
    "collapsed": false
   },
   "outputs": [
    {
     "name": "stdout",
     "output_type": "stream",
     "text": [
      "+-------+------------------+------------------+-----------------+\n",
      "|summary|               age|            fnlwgt|    education_num|\n",
      "+-------+------------------+------------------+-----------------+\n",
      "|  count|             32561|             32561|            32561|\n",
      "|   mean| 38.58164675532078|189778.36651208502| 10.0806793403151|\n",
      "| stddev|13.640432553581356|105549.97769702227|2.572720332067397|\n",
      "|    min|                17|             12285|                1|\n",
      "|    max|                90|           1484705|               16|\n",
      "+-------+------------------+------------------+-----------------+\n",
      "\n"
     ]
    }
   ],
   "source": [
    "df.select(*(df.columns[i] for i in range(0,6))).describe().show() # sólo columnas numéricas"
   ]
  },
  {
   "cell_type": "markdown",
   "metadata": {},
   "source": [
    "### Limpieza de datos"
   ]
  },
  {
   "cell_type": "markdown",
   "metadata": {},
   "source": [
    "#### Primero quitamos todas las columnas que tienen valores perdidos o que son constantes (un solo valor)"
   ]
  },
  {
   "cell_type": "code",
   "execution_count": 145,
   "metadata": {
    "collapsed": false
   },
   "outputs": [],
   "source": [
    "from pyspark.sql.types import StringType \n",
    "columnsToDrop = []\n",
    "for x in df.schema.fields:\n",
    "    condicion = \"\"\n",
    "    if(str(x.dataType) == \"StringType\"):\n",
    "        condicion = \" = ''\"        \n",
    "    else:\n",
    "        condicion = \" is null\"\n",
    "    \n",
    "    cuenta = df.select(x.name).where( x.name + condicion ).count()\n",
    "    if(cuenta > 0):\n",
    "        print(x.name + \"(\" + str(x.dataType) + \"): \" + str(cuenta))\n",
    "        columnsToDrop.append(x.name)\n",
    "    else: \n",
    "        cuenta_distintos = df.select(x.name).distinct().count()\n",
    "        if(cuenta_distintos == 1):  # Quitamos columnas constantes (con un solo valor)\n",
    "            print(\"[ \" + x.name + \" : distintos = \" + str(cuenta_distintos) + \"]\")\n",
    "            columnsToDrop.append(x.name)"
   ]
  },
  {
   "cell_type": "code",
   "execution_count": 146,
   "metadata": {
    "collapsed": false
   },
   "outputs": [],
   "source": [
    "columnsToKeep = list(x for x in df.columns if x not in columnsToDrop)\n",
    "df = df.select(columnsToKeep).cache()"
   ]
  },
  {
   "cell_type": "markdown",
   "metadata": {},
   "source": [
    "#### Ahora quitamos edades mayores de 35 y nos centramos en jóvenes"
   ]
  },
  {
   "cell_type": "code",
   "execution_count": 147,
   "metadata": {
    "collapsed": false
   },
   "outputs": [
    {
     "name": "stdout",
     "output_type": "stream",
     "text": [
      "Número de filas totales: 32561\n",
      "Número de filas quitando edades mayores de 35: 14049\n"
     ]
    }
   ],
   "source": [
    "print(\"Número de filas totales: \" + str(df.count()))\n",
    "# Renombramos la columna target como \"label\" porque por un bug de Spark 1.5.2, la clase CrossValidator\n",
    "# siempre busca una columna llamada \"label\" a pesar de que el Estimator tenga especificado otro nombre para el target\n",
    "df = df.where(\"age < 35\").withColumnRenamed(\"target\", \"label\").cache()\n",
    "print(\"Número de filas quitando edades mayores de 35: \" + str(df.count()))"
   ]
  },
  {
   "cell_type": "markdown",
   "metadata": {},
   "source": [
    "### Histograma: Se calcula con Spark y el histograma calculado se trae a local como Pandas para pintarlo "
   ]
  },
  {
   "cell_type": "code",
   "execution_count": 148,
   "metadata": {
    "collapsed": false
   },
   "outputs": [],
   "source": [
    "edadHist = df.select(['age']).rdd.flatMap(lambda x: x).histogram(50)"
   ]
  },
  {
   "cell_type": "code",
   "execution_count": 149,
   "metadata": {
    "collapsed": false
   },
   "outputs": [
    {
     "data": {
      "text/plain": [
       "<matplotlib.axes._subplots.AxesSubplot at 0x7f524806a3d0>"
      ]
     },
     "execution_count": 149,
     "metadata": {},
     "output_type": "execute_result"
    },
    {
     "data": {
      "image/png": "[encoded data removed]",
      "text/plain": [
       "<matplotlib.figure.Figure at 0x7f5248058e90>"
      ]
     },
     "metadata": {},
     "output_type": "display_data"
    }
   ],
   "source": [
    "import pandas as pd\n",
    "pd.DataFrame(list(zip(list(edadHist)[0], list(edadHist)[1])), columns=['bin','frequency']).\\\n",
    "             set_index('bin').plot(kind='bar')"
   ]
  },
  {
   "cell_type": "code",
   "execution_count": 150,
   "metadata": {
    "collapsed": false
   },
   "outputs": [
    {
     "name": "stdout",
     "output_type": "stream",
     "text": [
      "root\n",
      " |-- age: integer (nullable = true)\n",
      " |-- workclass: string (nullable = true)\n",
      " |-- fnlwgt: integer (nullable = true)\n",
      " |-- education: string (nullable = true)\n",
      " |-- education_num: integer (nullable = true)\n",
      " |-- marital_status: string (nullable = true)\n",
      " |-- occupation: string (nullable = true)\n",
      " |-- relationship: string (nullable = true)\n",
      " |-- race: string (nullable = true)\n",
      " |-- sex: string (nullable = true)\n",
      " |-- capital_gain: integer (nullable = true)\n",
      " |-- capital_loss: integer (nullable = true)\n",
      " |-- hours_per_week: integer (nullable = true)\n",
      " |-- native_country: string (nullable = true)\n",
      " |-- label: boolean (nullable = true)\n",
      "\n"
     ]
    }
   ],
   "source": [
    "df.printSchema()"
   ]
  },
  {
   "cell_type": "markdown",
   "metadata": {},
   "source": [
    "### Donut Chart: Porcentaje de clientes que contrata cierto número de productos dental"
   ]
  },
  {
   "cell_type": "markdown",
   "metadata": {
    "collapsed": true
   },
   "source": [
    "#### Los porcentajes se calculan de manera distribuida y el resultado se trae al servidor de Jupyter para pintarlo"
   ]
  },
  {
   "cell_type": "code",
   "execution_count": 151,
   "metadata": {
    "collapsed": false
   },
   "outputs": [],
   "source": [
    "from pyspark.sql.functions import col, lit\n",
    "numWorkDf = df.groupBy(\"workclass\").count()\n",
    "totalFilas = df.count()\n",
    "numWorkDf2 = numWorkDf.\\\n",
    "                        withColumn(\"total\", lit(totalFilas)).\\\n",
    "                        withColumn(\"porcentaje\", col(\"count\") / col(\"total\"))\n",
    "numWorkDfPd = numWorkDf2.toPandas()"
   ]
  },
  {
   "cell_type": "code",
   "execution_count": 152,
   "metadata": {
    "collapsed": false,
    "scrolled": true
   },
   "outputs": [
    {
     "data": {
      "image/png": "[encoded data removed]",
      "text/plain": [
       "<matplotlib.figure.Figure at 0x6696a90>"
      ]
     },
     "metadata": {},
     "output_type": "display_data"
    }
   ],
   "source": [
    "import matplotlib.pyplot as plt\n",
    "\n",
    "# The slices will be ordered and plotted counter-clockwise.\n",
    "labels = numWorkDfPd[\"workclass\"]\n",
    "sizes = numWorkDfPd[\"porcentaje\"]\n",
    "#colors = ['yellowgreen', 'gold', 'lightskyblue', 'lightcoral']\n",
    "#explode = (0, 0, 0, 0)  # explode a slice if required\n",
    "\n",
    "plt.pie(sizes, labels=labels, autopct='%1.1f%%', shadow=True)\n",
    "        \n",
    "#draw a circle at the center of pie to make it look like a donut\n",
    "centre_circle = plt.Circle((0,0),0.25,color='black', fc='white',linewidth=1.25)\n",
    "fig = plt.gcf()\n",
    "fig.gca().add_artist(centre_circle)\n",
    "\n",
    "# Set aspect ratio to be equal so that pie is drawn as a circle.\n",
    "plt.axis('equal')\n",
    "plt.show()  "
   ]
  },
  {
   "cell_type": "markdown",
   "metadata": {},
   "source": [
    "### Regresión logística sobre la variable target usando regularización L1 con lambda = 0.002"
   ]
  },
  {
   "cell_type": "code",
   "execution_count": 153,
   "metadata": {
    "collapsed": false
   },
   "outputs": [
    {
     "name": "stdout",
     "output_type": "stream",
     "text": [
      "+-----+-----+\n",
      "|label|count|\n",
      "+-----+-----+\n",
      "| true|12561|\n",
      "|false| 1488|\n",
      "+-----+-----+\n",
      "\n"
     ]
    }
   ],
   "source": [
    "df.groupBy(\"label\").count().show()"
   ]
  },
  {
   "cell_type": "markdown",
   "metadata": {},
   "source": [
    "#### Convertir en enteros las variables categóricas (String) y pasar las features a una sola columna de tipo Vector"
   ]
  },
  {
   "cell_type": "code",
   "execution_count": 154,
   "metadata": {
    "collapsed": false
   },
   "outputs": [],
   "source": [
    "from pyspark.sql.types import DoubleType, IntegerType\n",
    "from pyspark.ml.feature import StringIndexer\n",
    "from pyspark.ml.feature import VectorAssembler\n",
    "from pyspark.ml import Pipeline\n",
    "\n",
    "label = \"label\"\n",
    "vectorizedFeatures = \"myVectorizedFeatures\"\n",
    "columnasContinuas = list([x.name for x in df.schema.fields if x.name != label and x.dataType != StringType()])\n",
    "columnasString = list([x.name for x in df.schema.fields if x.name != label and x.dataType == StringType()])\n",
    "nombresIndexados = list([(x + \"_indexed\") for x in columnasString])\n",
    "indexers = [StringIndexer(inputCol = x, outputCol = x + \"_indexed\") for x in columnasString]\n",
    "pipeline = Pipeline(stages=indexers)"
   ]
  },
  {
   "cell_type": "code",
   "execution_count": 155,
   "metadata": {
    "collapsed": true
   },
   "outputs": [],
   "source": [
    "vecAssembler = VectorAssembler(inputCols=columnasContinuas+nombresIndexados, outputCol=vectorizedFeatures)"
   ]
  },
  {
   "cell_type": "code",
   "execution_count": 156,
   "metadata": {
    "collapsed": false
   },
   "outputs": [],
   "source": [
    "from pyspark.sql.types import DoubleType\n",
    "assembledDf = vecAssembler.transform(pipeline.fit(df).transform(df)).\\\n",
    "                            select([vectorizedFeatures, label]).\\\n",
    "                            withColumn(label, col(label).cast(DoubleType())).cache()"
   ]
  },
  {
   "cell_type": "code",
   "execution_count": 157,
   "metadata": {
    "collapsed": false
   },
   "outputs": [
    {
     "name": "stdout",
     "output_type": "stream",
     "text": [
      "+--------------------+\n",
      "|myVectorizedFeatures|\n",
      "+--------------------+\n",
      "|[28.0,338409.0,13...|\n",
      "|[31.0,45781.0,14....|\n",
      "|[30.0,141297.0,13...|\n",
      "|(14,[0,1,2,5,7,12...|\n",
      "|(14,[0,1,2,5,7,9,...|\n",
      "|[34.0,245487.0,4....|\n",
      "|(14,[0,1,2,5,6,9]...|\n",
      "|(14,[0,1,2,5,9,10...|\n",
      "|(14,[0,1,2,5,9],[...|\n",
      "|(14,[0,1,2,5,6,7,...|\n",
      "+--------------------+\n",
      "only showing top 10 rows\n",
      "\n"
     ]
    }
   ],
   "source": [
    "assembledDf.select(\"myVectorizedFeatures\").show(10);"
   ]
  },
  {
   "cell_type": "code",
   "execution_count": 158,
   "metadata": {
    "collapsed": false
   },
   "outputs": [
    {
     "data": {
      "text/plain": [
       "DataFrame[myVectorizedFeatures: vector, label: double]"
      ]
     },
     "execution_count": 158,
     "metadata": {},
     "output_type": "execute_result"
    }
   ],
   "source": [
    "[training, test] = assembledDf.randomSplit([0.7, 0.3], seed = 123456)\n",
    "training.cache()"
   ]
  },
  {
   "cell_type": "code",
   "execution_count": 159,
   "metadata": {
    "collapsed": false
   },
   "outputs": [],
   "source": [
    "from pyspark.ml.classification import LogisticRegression\n",
    "# parameter lambda = 0.002\n",
    "# elastic net param alpha = 1.0 means using only L1 regularization and giving weight 0 to L2 regularization tem\n",
    "lr = LogisticRegression().\\\n",
    "    setMaxIter(50).\\\n",
    "    setRegParam(0.02).\\\n",
    "    setElasticNetParam(1.0).\\\n",
    "    setLabelCol(label).\\\n",
    "    setFeaturesCol(vectorizedFeatures)\n",
    "mymodel = lr.fit(training)"
   ]
  },
  {
   "cell_type": "code",
   "execution_count": 160,
   "metadata": {
    "collapsed": true
   },
   "outputs": [],
   "source": [
    "dfTrain = mymodel.transform(training).cache()"
   ]
  },
  {
   "cell_type": "code",
   "execution_count": 161,
   "metadata": {
    "collapsed": true
   },
   "outputs": [],
   "source": [
    "dfTest = mymodel.transform(test).cache()"
   ]
  },
  {
   "cell_type": "code",
   "execution_count": 162,
   "metadata": {
    "collapsed": false
   },
   "outputs": [],
   "source": [
    "predictionAndLabelsTrain = dfTrain.select([label, \"prediction\"]).rdd.map(lambda row: (row.prediction, row.label)).cache()"
   ]
  },
  {
   "cell_type": "code",
   "execution_count": 163,
   "metadata": {
    "collapsed": true
   },
   "outputs": [],
   "source": [
    "predictionAndLabelsTest = dfTest.select([label, \"prediction\"]).rdd.map(lambda row: (row.prediction, row.label)).cache()"
   ]
  },
  {
   "cell_type": "code",
   "execution_count": 164,
   "metadata": {
    "collapsed": false
   },
   "outputs": [],
   "source": [
    "from pyspark.mllib.evaluation import BinaryClassificationMetrics\n",
    "\n",
    "def printMetrics(predictedDf, label):\n",
    "    predictionAndLabels = predictedDf.select([label, \"prediction\"]).rdd.map(lambda row: (row.prediction, row.label)).cache()    \n",
    "    # Instantiate metrics object\n",
    "    metrics = BinaryClassificationMetrics(predictionAndLabels)\n",
    "    # Area under precision-recall curve\n",
    "    print(\"Area under PR = %s\" % metrics.areaUnderPR)\n",
    "    # Area under ROC curve\n",
    "    print(\"Area under ROC = %s\" % metrics.areaUnderROC)\n",
    "    # Accuracy\n",
    "    aciertos = predictedDf.where( label + \" = prediction\" ).count()\n",
    "    ejemplos = predictedDf.count()\n",
    "    print(\"Accuracy = %s \" % (aciertos/ejemplos))"
   ]
  },
  {
   "cell_type": "code",
   "execution_count": 165,
   "metadata": {
    "collapsed": false
   },
   "outputs": [
    {
     "name": "stdout",
     "output_type": "stream",
     "text": [
      "-------------------------------------------------------\n",
      "Medidas de rendimiento sobre los datos de ENTRENAMIENTO\n",
      "-------------------------------------------------------\n",
      "Area under PR = 0.949254772716\n",
      "Area under ROC = 0.527841000781\n",
      "Accuracy = 0 \n",
      "-------------------------------------------------------\n"
     ]
    }
   ],
   "source": [
    "print(\"-------------------------------------------------------\")\n",
    "print(\"Medidas de rendimiento sobre los datos de ENTRENAMIENTO\")\n",
    "print(\"-------------------------------------------------------\")\n",
    "printMetrics(dfTrain, label)\n",
    "print(\"-------------------------------------------------------\")"
   ]
  },
  {
   "cell_type": "code",
   "execution_count": 166,
   "metadata": {
    "collapsed": false
   },
   "outputs": [
    {
     "name": "stdout",
     "output_type": "stream",
     "text": [
      "-------------------------------------------------------\n",
      "Medidas de rendimiento sobre los datos de PRUEBAS\n",
      "-------------------------------------------------------\n",
      "Area under PR = 0.950418160096\n",
      "Area under ROC = 0.525171624714\n",
      "Accuracy = 0 \n",
      "-------------------------------------------------------\n"
     ]
    }
   ],
   "source": [
    "print(\"-------------------------------------------------------\")\n",
    "print(\"Medidas de rendimiento sobre los datos de PRUEBAS\")\n",
    "print(\"-------------------------------------------------------\")\n",
    "printMetrics(dfTest, label)\n",
    "print(\"-------------------------------------------------------\")"
   ]
  }
 ],
 "metadata": {
  "kernelspec": {
   "display_name": "Pyspark (Py 2)",
   "language": "",
   "name": "pyspark"
  },
  "language_info": {
   "codemirror_mode": {
    "name": "ipython",
    "version": 2
   },
   "file_extension": ".py",
   "mimetype": "text/x-python",
   "name": "python",
   "nbconvert_exporter": "python",
   "pygments_lexer": "ipython2",
   "version": "2.7.5"
  }
 },
 "nbformat": 4,
 "nbformat_minor": 0
}
