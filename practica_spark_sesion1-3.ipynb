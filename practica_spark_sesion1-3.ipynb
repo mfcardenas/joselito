{
 "cells": [
  {
   "cell_type": "code",
   "execution_count": 1,
   "metadata": {
    "collapsed": false,
    "deletable": true,
    "editable": true
   },
   "outputs": [
    {
     "name": "stdout",
     "output_type": "stream",
     "text": [
      "55\n"
     ]
    }
   ],
   "source": [
    "numeros = sc.parallelize([1,2,3,4,5,6,7,8,9,10],2)\n",
    "\n",
    "print numeros.reduce(lambda e1,e2: e1+e2)"
   ]
  },
  {
   "cell_type": "code",
   "execution_count": null,
   "metadata": {
    "collapsed": false,
    "deletable": true,
    "editable": true
   },
   "outputs": [],
   "source": [
    "numeros = sc.parallelize([1,2,3,4,5,6,7,8,9,10])\n",
    "\n",
    "rdd = numeros.map(lambda e: 2*e)\n",
    "\n",
    "print rdd.collect()\n",
    "# ¿Cómo hacer para obtener una lista de los elementos al cuadrado?"
   ]
  },
  {
   "cell_type": "code",
   "execution_count": null,
   "metadata": {
    "collapsed": false,
    "deletable": true,
    "editable": true
   },
   "outputs": [],
   "source": [
    "palabras = sc.parallelize(['HOLA', 'Que', 'TAL', 'Bien'])\n",
    "\n",
    "pal_minus = palabras.map(lambda elemento: elemento.lower())\n",
    "\n",
    "print pal_minus.collect()"
   ]
  },
  {
   "cell_type": "code",
   "execution_count": null,
   "metadata": {
    "collapsed": false,
    "deletable": true,
    "editable": true
   },
   "outputs": [],
   "source": [
    "palabras = sc.parallelize(['HOLA', 'Que', 'TAL', 'Bien'])\n",
    "\n",
    "pal_long = palabras.map(lambda elemento: len(elemento))\n",
    "\n",
    "print pal_long.collect()"
   ]
  },
  {
   "cell_type": "code",
   "execution_count": null,
   "metadata": {
    "collapsed": false,
    "deletable": true,
    "editable": true
   },
   "outputs": [],
   "source": [
    "numeros = sc.parallelize([1,2,3,4,5,6,7,8,9,10])\n",
    "\n",
    "rdd = numeros.filter(lambda elemento: elemento%2==0)\n",
    "\n",
    "print rdd.collect()\n",
    "# ¿Cómo filtrar los impares?"
   ]
  },
  {
   "cell_type": "code",
   "execution_count": null,
   "metadata": {
    "collapsed": false,
    "deletable": true,
    "editable": true
   },
   "outputs": [],
   "source": [
    "log = sc.parallelize(['E: e21', 'W: w12', 'W: w13', 'E: e45'])\n",
    "\n",
    "errors = log.filter(lambda elemento: elemento[0]=='E')\n",
    "\n",
    "print errors.collect()"
   ]
  },
  {
   "cell_type": "code",
   "execution_count": null,
   "metadata": {
    "collapsed": false,
    "deletable": true,
    "editable": true
   },
   "outputs": [],
   "source": [
    "numeros = sc.parallelize([1,2,3,4,5])\n",
    "\n",
    "rdd = numeros.flatMap(lambda elemento: [elemento, 10*elemento])\n",
    "\n",
    "print rdd.collect()"
   ]
  },
  {
   "cell_type": "code",
   "execution_count": null,
   "metadata": {
    "collapsed": false,
    "deletable": true,
    "editable": true
   },
   "outputs": [],
   "source": [
    "lineas = sc.parallelize(['', 'a', 'a b', 'a b c'])\n",
    "\n",
    "palabras = lineas.flatMap(lambda elemento: elemento.split())\n",
    "\n",
    "print palabras.collect()"
   ]
  },
  {
   "cell_type": "code",
   "execution_count": null,
   "metadata": {
    "collapsed": false,
    "deletable": true,
    "editable": true
   },
   "outputs": [],
   "source": [
    "lineas = sc.parallelize(['', 'a', 'a b', 'a b c'])\n",
    "\n",
    "palabras_flat = lineas.flatMap(lambda elemento: elemento.split())\n",
    "palabras_map = lineas.map(lambda elemento: elemento.split())\n",
    "\n",
    "print palabras_flat.collect()\n",
    "print palabras_map.collect()\n",
    "# ¿Cuántos elementos tiene cada rdd? ¿Cuál tiene más?\n",
    "# ¿De qué tipo son los elementos del rdd palabras_map?\n",
    "# ¿Por qué palabras_map tiene el primer elemento vacio?"
   ]
  },
  {
   "cell_type": "code",
   "execution_count": null,
   "metadata": {
    "collapsed": false,
    "deletable": true,
    "editable": true
   },
   "outputs": [],
   "source": [
    "numeros = sc.parallelize([1,1,2,2,5])\n",
    "\n",
    "unicos = numeros.distinct()\n",
    "\n",
    "print unicos.collect()\n",
    "# Prueba qué sucede si lo aplicamos a cadenas"
   ]
  },
  {
   "cell_type": "code",
   "execution_count": null,
   "metadata": {
    "collapsed": false,
    "deletable": true,
    "editable": true
   },
   "outputs": [],
   "source": [
    "pares = sc.parallelize([2,4,6,8,10])\n",
    "impares = sc.parallelize([1,3,5,7,9])\n",
    "\n",
    "numeros = pares.union(impares)\n",
    "\n",
    "print numeros.collect()"
   ]
  },
  {
   "cell_type": "code",
   "execution_count": 3,
   "metadata": {
    "collapsed": false,
    "deletable": true,
    "editable": true
   },
   "outputs": [
    {
     "name": "stdout",
     "output_type": "stream",
     "text": [
      "['I: i11', 'I: i11', 'E: e21', 'E: e45']\n"
     ]
    }
   ],
   "source": [
    "log = sc.parallelize(['E: e21', 'I: i11', 'W: w12', 'I: i11', 'W: w13', 'E: e45'])\n",
    "\n",
    "infos = log.filter(lambda elemento: elemento[0]=='I')\n",
    "errors = log.filter(lambda elemento: elemento[0]=='E')\n",
    "\n",
    "inferr = infos.union(errors)\n",
    "\n",
    "print inferr.collect()"
   ]
  },
  {
   "cell_type": "code",
   "execution_count": 137,
   "metadata": {
    "collapsed": false,
    "deletable": true,
    "editable": true
   },
   "outputs": [
    {
     "name": "stdout",
     "output_type": "stream",
     "text": [
      "[1, 2, 2, 2, 3, 3, 5, 5, 6, 6, 7, 8]\n"
     ]
    }
   ],
   "source": [
    "numeros = sc.parallelize([1,2,3,4,5,6,7,8,9,10])\n",
    "\n",
    "rdd = numeros.sample(True, 1.0)\n",
    "\n",
    "print rdd.collect()"
   ]
  },
  {
   "cell_type": "code",
   "execution_count": null,
   "metadata": {
    "collapsed": false,
    "deletable": true,
    "editable": true
   },
   "outputs": [],
   "source": [
    "numeros = sc.parallelize([1,2,3,4,5,6,7,8,9,10])\n",
    "\n",
    "pares = numeros.filter(lambda elemento: elemento%2==0)\n",
    "\n",
    "print pares.count()"
   ]
  },
  {
   "cell_type": "code",
   "execution_count": null,
   "metadata": {
    "collapsed": false,
    "deletable": true,
    "editable": true
   },
   "outputs": [],
   "source": [
    "numeros = sc.parallelize([1,2,3,4,5])\n",
    "\n",
    "print numeros.reduce(lambda elem1,elem2: elem2+elem1)"
   ]
  },
  {
   "cell_type": "code",
   "execution_count": null,
   "metadata": {
    "collapsed": false,
    "deletable": true,
    "editable": true
   },
   "outputs": [],
   "source": [
    "#Tiene sentido esta operación?\n",
    "numeros = sc.parallelize([1,2,3,4,5])\n",
    "\n",
    "print numeros.reduce(lambda elem1,elem2: elem1-elem2)"
   ]
  },
  {
   "cell_type": "code",
   "execution_count": null,
   "metadata": {
    "collapsed": false,
    "deletable": true,
    "editable": true
   },
   "outputs": [],
   "source": [
    "palabras = sc.parallelize(['HOLA', 'Que', 'TAL', 'Bien'])\n",
    "\n",
    "pal_minus = palabras.map(lambda elemento: elemento.lower())\n",
    "\n",
    "print pal_minus.reduce(lambda elem1,elem2: elem1+\"-\"+elem2)\n",
    "#y esta tiene sentido esta operación?\n",
    "# Qué pasa si ponemos elem2+\"-\"+elem1"
   ]
  },
  {
   "cell_type": "code",
   "execution_count": null,
   "metadata": {
    "collapsed": false,
    "deletable": true,
    "editable": true
   },
   "outputs": [],
   "source": [
    "numeros = sc.parallelize([5,3,2,1,4])\n",
    "\n",
    "print numeros.take(3)\n",
    "#¿Qué sucede si ponemos 30 en vez de 3 elementos?"
   ]
  },
  {
   "cell_type": "code",
   "execution_count": null,
   "metadata": {
    "collapsed": false,
    "deletable": true,
    "editable": true
   },
   "outputs": [],
   "source": [
    "numeros = sc.parallelize([5,3,2,1,4])\n",
    "\n",
    "print numeros.collect()"
   ]
  },
  {
   "cell_type": "code",
   "execution_count": null,
   "metadata": {
    "collapsed": false,
    "deletable": true,
    "editable": true
   },
   "outputs": [],
   "source": [
    "numeros = sc.parallelize([5,3,2,1,4])\n",
    "\n",
    "print numeros.takeOrdered(3)"
   ]
  },
  {
   "cell_type": "code",
   "execution_count": 12,
   "metadata": {
    "collapsed": false,
    "deletable": true,
    "editable": true
   },
   "outputs": [
    {
     "name": "stdout",
     "output_type": "stream",
     "text": [
      "[(1, 1), (2, 1), (3, 1), (4, 1), (5, 1)]\n",
      "[5, 4, 3]\n"
     ]
    }
   ],
   "source": [
    "numeros = sc.parallelize([3,2,1,4,5])\n",
    "\n",
    "print numeros.takeOrdered(3, lambda elem: -elem)\n",
    "# Cómo lo ordenarías para que primero aparezcan los impares y luego los pares?"
   ]
  },
  {
   "cell_type": "code",
   "execution_count": 5,
   "metadata": {
    "collapsed": false,
    "deletable": true,
    "editable": true,
    "scrolled": true
   },
   "outputs": [
    {
     "name": "stdout",
     "output_type": "stream",
     "text": [
      "2079637\n"
     ]
    }
   ],
   "source": [
    "# Contar caracteres\n",
    "lineas = sc.textFile('elquijote.txt', 8)\n",
    "\n",
    "long_lineas = lineas.map(lambda e: len(e))\n",
    "\n",
    "print long_lineas.reduce(lambda e1,e2: e1+e2)\n"
   ]
  },
  {
   "cell_type": "code",
   "execution_count": 4,
   "metadata": {
    "collapsed": false,
    "deletable": true,
    "editable": true
   },
   "outputs": [
    {
     "name": "stdout",
     "output_type": "stream",
     "text": [
      "[('HOLA', 4), ('Que', 3), ('TAL', 3), ('Bien', 4)]\n"
     ]
    }
   ],
   "source": [
    "palabras = sc.parallelize(['HOLA', 'Que', 'TAL', 'Bien'])\n",
    "\n",
    "pal_long = palabras.map(lambda elem: (elem, len(elem)))\n",
    "\n",
    "print pal_long.collect()"
   ]
  },
  {
   "cell_type": "code",
   "execution_count": 6,
   "metadata": {
    "collapsed": false,
    "deletable": true,
    "editable": true
   },
   "outputs": [
    {
     "name": "stdout",
     "output_type": "stream",
     "text": [
      "[('A', 2), ('C', 4), ('B', 5)]\n"
     ]
    }
   ],
   "source": [
    "r = sc.parallelize([('A', 1),('C', 4),('A', 1),('B', 1),('B', 4)])\n",
    "rr = r.reduceByKey(lambda v1,v2:v1+v2)\n",
    "print rr.collect()\n"
   ]
  },
  {
   "cell_type": "code",
   "execution_count": 18,
   "metadata": {
    "collapsed": false,
    "deletable": true,
    "editable": true
   },
   "outputs": [
    {
     "name": "stdout",
     "output_type": "stream",
     "text": [
      "[('A', 2), ('C', 4), ('B', 5)]\n",
      "[('A', 2), ('C', 4), ('B', 5)]\n"
     ]
    }
   ],
   "source": [
    "r = sc.parallelize([('A', 1),('C', 4),('A', 1),('B', 1),('B', 4)])\n",
    "rr1 = r.reduceByKey(lambda v1,v2:v1+v2)\n",
    "print rr1.collect()\n",
    "rr2 = rr1.reduceByKey(lambda v1,v2:v1)\n",
    "print rr2.collect()\n"
   ]
  },
  {
   "cell_type": "code",
   "execution_count": 19,
   "metadata": {
    "collapsed": false,
    "deletable": true,
    "editable": true
   },
   "outputs": [
    {
     "name": "stdout",
     "output_type": "stream",
     "text": [
      "[('A', 'hola'), ('C', 4), ('B', 'hola')]\n",
      "[('A', 'hola'), ('C', 4), ('B', 'hola')]\n"
     ]
    }
   ],
   "source": [
    "# Explica el resultado\n",
    "r = sc.parallelize([('A', 1),('C', 4),('A', 1),('B', 1),('B', 4)])\n",
    "rr1 = r.reduceByKey(lambda v1,v2:'hola')\n",
    "print rr1.collect()\n",
    "rr2 = rr1.reduceByKey(lambda v1,v2:'hola')\n",
    "print rr2.collect()\n"
   ]
  },
  {
   "cell_type": "code",
   "execution_count": 2,
   "metadata": {
    "collapsed": false,
    "deletable": true,
    "editable": true
   },
   "outputs": [
    {
     "name": "stdout",
     "output_type": "stream",
     "text": [
      "[(u'que', 19470), (u'de', 18156), (u'y', 16489), (u'la', 10338), (u'a', 9802)]\n",
      "38624\n"
     ]
    }
   ],
   "source": [
    "lineas = sc.textFile('elquijote.txt', 8)\n",
    "pals = (lineas.flatMap(lambda linea: linea.lower().split())\n",
    "             .map(lambda pal: (pal, 1))\n",
    "             .reduceByKey(lambda elem1,elem2: elem1 + elem2))\n",
    "\n",
    "print pals.takeOrdered(5, key=lambda a:-a[1])\n",
    "\n",
    "print pals.count()\n",
    "\n",
    "#Modificadlo para:\n",
    "#  * Contar el histograma de ocurrencia de caracteres\n",
    "#  * Obtener la lista ordenada de mayor a menor\n"
   ]
  },
  {
   "cell_type": "code",
   "execution_count": 52,
   "metadata": {
    "collapsed": false,
    "deletable": true,
    "editable": true
   },
   "outputs": [
    {
     "name": "stdout",
     "output_type": "stream",
     "text": [
      "A [1, 3]\n",
      "C [2]\n",
      "B [4, 5]\n"
     ]
    }
   ],
   "source": [
    "r = sc.parallelize([('A', 1),('C', 2),('A', 3),('B', 4),('B', 5)])\n",
    "rr = r.groupByKey()\n",
    "res= rr.collect()\n",
    "for k,v in res:\n",
    "    print k, list(v)\n",
    "# Que operación realizar al RDD rr para que la operacion sea como un reduceByKey\n",
    "#¿Y simular un group con un reduceByKey y un map?\n"
   ]
  },
  {
   "cell_type": "code",
   "execution_count": 46,
   "metadata": {
    "collapsed": false,
    "deletable": true,
    "editable": true
   },
   "outputs": [
    {
     "name": "stdout",
     "output_type": "stream",
     "text": [
      "[('A', (1, 4)), ('C', (3, 6)), ('B', (2, 5))]\n"
     ]
    }
   ],
   "source": [
    "rdd1 = sc.parallelize([('A',1),('B',2),('C',3)])\n",
    "rdd2 = sc.parallelize([('A',4),('B',5),('C',6)])\n",
    "\n",
    "rddjoin = rdd1.join(rdd2)\n",
    "\n",
    "print rddjoin.collect()\n",
    "# Prueba a cambiar las claves del rdd1 y rdd2 para ver cuántos elementos se crean"
   ]
  },
  {
   "cell_type": "code",
   "execution_count": 53,
   "metadata": {
    "collapsed": false,
    "deletable": true,
    "editable": true
   },
   "outputs": [
    {
     "name": "stdout",
     "output_type": "stream",
     "text": [
      "[('A', (1, 4)), ('A', (1, 5)), ('B', (2, 6))]\n"
     ]
    }
   ],
   "source": [
    "rdd1 = sc.parallelize([('A',1),('B',2),('C',3)])\n",
    "rdd2 = sc.parallelize([('A',4),('A',5),('B',6),('D',7)])\n",
    "\n",
    "rddjoin = rdd1.join(rdd2)\n",
    "\n",
    "print rddjoin.collect()\n",
    "#Modifica join por leftOuterJoin, rightOuterJoin y fullOuterJoin ¿Qué sucede? \n"
   ]
  },
  {
   "cell_type": "code",
   "execution_count": 1,
   "metadata": {
    "collapsed": false,
    "deletable": true,
    "editable": true,
    "scrolled": true
   },
   "outputs": [
    {
     "name": "stdout",
     "output_type": "stream",
     "text": [
      "[('C', 3), ('B', 2), ('B', 6), ('A', 1), ('A', 4), ('A', 5)]\n"
     ]
    }
   ],
   "source": [
    "rdd = sc.parallelize([('A',1),('B',2),('C',3),('A',4),('A',5),('B',6)])\n",
    "\n",
    "res = rdd.sortByKey(False)\n",
    "\n",
    "print res.collect()"
   ]
  },
  {
   "cell_type": "code",
   "execution_count": 13,
   "metadata": {
    "collapsed": false
   },
   "outputs": [],
   "source": [
    "# boorar un directorio usando python, solo válido en local\n",
    "import shutil\n",
    "shutil.rmtree('salida')\n",
    "import os;\n",
    "\n",
    "if os.path.isdir('salida'):\n",
    "    n2 = sc.textFile('salida').map(lambda a:int(a))\n",
    "    print n2.reduce(lambda v1,v2: v1 + v2)\n",
    "else:\n",
    "    numeros = sc.parallelize(xrange(0,1000))\n",
    "    numeros.saveAsTextFile('salida')\n",
    "\n",
    "# Prueba este código y mira qué genera?\n",
    "# Borra la salida y cambia las particiones en parallelize ¿Qué sucede? \n",
    "#    (pe c.parallelize(xrange(0,1000),8))\n"
   ]
  },
  {
   "cell_type": "code",
   "execution_count": 12,
   "metadata": {
    "collapsed": false,
    "deletable": true,
    "editable": true
   },
   "outputs": [
    {
     "name": "stdout",
     "output_type": "stream",
     "text": [
      "Memory Serialized 1x Replicated\n",
      "37861\n",
      "CPU times: user 4 ms, sys: 0 ns, total: 4 ms\n",
      "Wall time: 53 ms\n",
      "37861\n",
      "CPU times: user 0 ns, sys: 0 ns, total: 0 ns\n",
      "Wall time: 67 ms\n",
      "37861\n",
      "CPU times: user 0 ns, sys: 0 ns, total: 0 ns\n",
      "Wall time: 87.2 ms\n",
      "37861\n",
      "CPU times: user 4 ms, sys: 0 ns, total: 4 ms\n",
      "Wall time: 57.7 ms\n"
     ]
    }
   ],
   "source": [
    "print rdd.getStorageLevel()\n",
    "rdd = sc.textFile('elquijote.txt')\n",
    "%time print rdd.count()\n",
    "%time print rdd.count()\n",
    "rdd.cache()\n",
    "%time print rdd.count()\n",
    "%time print rdd.count()\n"
   ]
  },
  {
   "cell_type": "code",
   "execution_count": 27,
   "metadata": {
    "collapsed": false,
    "deletable": true,
    "editable": true
   },
   "outputs": [
    {
     "name": "stdout",
     "output_type": "stream",
     "text": [
      "Counter value: 0\n"
     ]
    }
   ],
   "source": [
    "counter = 0\n",
    "rdd = sc.textFile('elquijote.txt')\n",
    "\n",
    "# Esto no funciona\n",
    "def increment_counter(x):\n",
    "    global counter\n",
    "    counter += x\n",
    "    \n",
    "rdd.map(lambda l:len(l)).foreach(increment_counter)\n",
    "\n",
    "print \"Counter value: %d\" % counter"
   ]
  },
  {
   "cell_type": "code",
   "execution_count": 9,
   "metadata": {
    "collapsed": false,
    "deletable": true,
    "editable": true
   },
   "outputs": [
    {
     "name": "stdout",
     "output_type": "stream",
     "text": [
      "[(u'y', 16489), (u'la', 10338), (u'el', 8170), (u'en', 8149), (u'no', 5776)]\n"
     ]
    }
   ],
   "source": [
    "pals_a_eliminar = ['a', 'ante', 'bajo', 'segun', 'que', 'de']\n",
    "\n",
    "def elimPalabras(p):\n",
    "    global pals_a_eliminar\n",
    "    return p not in pals_a_eliminar\n",
    "\n",
    "lineas = sc.textFile('elquijote.txt', 8)\n",
    "pals = (lineas.flatMap(lambda linea: linea.lower().split())\n",
    "              .filter(elimPalabras)\n",
    "              .map(lambda pal: (pal, 1))\n",
    "              .reduceByKey(lambda elem1,elem2: elem1 + elem2))\n",
    "\n",
    "print pals.takeOrdered(5, key=lambda a:-a[1])"
   ]
  },
  {
   "cell_type": "code",
   "execution_count": 11,
   "metadata": {
    "collapsed": false,
    "deletable": true,
    "editable": true
   },
   "outputs": [
    {
     "name": "stdout",
     "output_type": "stream",
     "text": [
      "[(u'y', 16489), (u'la', 10338), (u'el', 8170), (u'en', 8149), (u'no', 5776)]\n"
     ]
    }
   ],
   "source": [
    "pals_a_eliminar = sc.broadcast(['a', 'ante', 'bajo', 'segun', 'que', 'de'])\n",
    "\n",
    "def elimPalabras(p):\n",
    "    return p not in pals_a_eliminar.value\n",
    "\n",
    "lineas = sc.textFile('elquijote.txt', 8)\n",
    "pals = (lineas.flatMap(lambda linea: linea.lower().split())\n",
    "              .filter(elimPalabras)\n",
    "              .map(lambda pal: (pal, 1))\n",
    "              .reduceByKey(lambda elem1,elem2: elem1 + elem2))\n",
    "\n",
    "print pals.takeOrdered(5, key=lambda a:-a[1])"
   ]
  },
  {
   "cell_type": "code",
   "execution_count": 14,
   "metadata": {
    "collapsed": false,
    "deletable": true,
    "editable": true
   },
   "outputs": [
    {
     "name": "stdout",
     "output_type": "stream",
     "text": [
      "Counter value: 2079636\n"
     ]
    }
   ],
   "source": [
    "counter = sc.accumulator(0)\n",
    "\n",
    "rdd = sc.textFile('elquijote.txt')\n",
    "\n",
    "def increment_counter(x):\n",
    "    global counter\n",
    "    counter += x\n",
    "    \n",
    "rdd.map(lambda l:len(l)).foreach(increment_counter)\n",
    "\n",
    "print \"Counter value: %d\" % counter.value"
   ]
  }
 ],
 "metadata": {
  "kernelspec": {
   "display_name": "Python 2",
   "language": "python",
   "name": "python2"
  },
  "language_info": {
   "codemirror_mode": {
    "name": "ipython",
    "version": 2
   },
   "file_extension": ".py",
   "mimetype": "text/x-python",
   "name": "python",
   "nbconvert_exporter": "python",
   "pygments_lexer": "ipython2",
   "version": "2.7.12"
  }
 },
 "nbformat": 4,
 "nbformat_minor": 0
}
